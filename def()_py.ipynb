{
  "nbformat": 4,
  "nbformat_minor": 0,
  "metadata": {
    "colab": {
      "provenance": [],
      "authorship_tag": "ABX9TyPv5hI91URlaOIt75b/926N",
      "include_colab_link": true
    },
    "kernelspec": {
      "name": "python3",
      "display_name": "Python 3"
    },
    "language_info": {
      "name": "python"
    }
  },
  "cells": [
    {
      "cell_type": "markdown",
      "metadata": {
        "id": "view-in-github",
        "colab_type": "text"
      },
      "source": [
        "<a href=\"https://colab.research.google.com/github/balashiva0011/DSA_python/blob/main/def()_py.ipynb\" target=\"_parent\"><img src=\"https://colab.research.google.com/assets/colab-badge.svg\" alt=\"Open In Colab\"/></a>"
      ]
    },
    {
      "cell_type": "markdown",
      "source": [
        "## Def is a keyword used to define functions. Here’s a basic overview of how it works in Python:"
      ],
      "metadata": {
        "id": "aQtYKgbikT2c"
      }
    },
    {
      "cell_type": "code",
      "execution_count": 5,
      "metadata": {
        "colab": {
          "base_uri": "https://localhost:8080/"
        },
        "id": "1LACzRLakFZ9",
        "outputId": "77349d72-3c89-4d53-c87f-1167bd48bbc1"
      },
      "outputs": [
        {
          "output_type": "stream",
          "name": "stdout",
          "text": [
            "Hello, ashu!\n"
          ]
        }
      ],
      "source": [
        "def greet(name):\n",
        "    \"\"\"\n",
        "    This function takes a name as an argument and prints a greeting.\n",
        "    \"\"\"\n",
        "    print(f\"Hello, {name}!\")\n",
        "r =greet(\"ashu\")\n",
        "r"
      ]
    },
    {
      "cell_type": "code",
      "source": [
        "\"\"\" Function with Return Value\n",
        "Functions can also return values using the return statement. Here’s an example:\n",
        "python\n",
        "Copy code\"\"\"\n",
        "def add(a, b):\n",
        "    \"\"\"\n",
        "      This function takes two numbers and returns their sum.\n",
        "    \"\"\"\n",
        "    return a + b\n",
        "r = add(10,5)\n",
        "r"
      ],
      "metadata": {
        "colab": {
          "base_uri": "https://localhost:8080/"
        },
        "id": "-IHMM9f7kwZa",
        "outputId": "9f2f8b88-0dbb-45fd-f389-670de9b2321d"
      },
      "execution_count": 6,
      "outputs": [
        {
          "output_type": "execute_result",
          "data": {
            "text/plain": [
              "15"
            ]
          },
          "metadata": {},
          "execution_count": 6
        }
      ]
    },
    {
      "cell_type": "code",
      "source": [
        "\"\"\"Function with Default Parameters\n",
        "You can also define functions with default values for parameters:\n",
        "python\n",
        "Copy code\"\"\"\n",
        "def multiply(x, y=1):\n",
        "    \"\"\"\n",
        "    This function multiplies x by y. If y is not provided, it defaults to 1.\n",
        "    \"\"\"\n",
        "    return x * y\n",
        "r = multiply(10,3)\n",
        "r\n"
      ],
      "metadata": {
        "colab": {
          "base_uri": "https://localhost:8080/"
        },
        "id": "04p55ctAk_mL",
        "outputId": "81c74d45-0a1b-46bc-9454-af5d0d7f5e6c"
      },
      "execution_count": 7,
      "outputs": [
        {
          "output_type": "execute_result",
          "data": {
            "text/plain": [
              "30"
            ]
          },
          "metadata": {},
          "execution_count": 7
        }
      ]
    },
    {
      "cell_type": "code",
      "source": [
        "\"\"\" Keyword Arguments\n",
        "You can also call functions using keyword arguments:\n",
        "python\n",
        "Copy code \"\"\"\n",
        "def introduce(name, age):\n",
        "    \"\"\"\n",
        "    This function introduces a person by name and age.\n",
        "    \"\"\"\n",
        "    print(f\"Name: {name}, Age: {age}\")\n",
        "\n",
        "r =introduce(age=30, name=\"Bob\")\n",
        "r\n"
      ],
      "metadata": {
        "colab": {
          "base_uri": "https://localhost:8080/"
        },
        "id": "1PHkg6lwlaWq",
        "outputId": "fd2d567d-576a-419a-fe1c-287d62de0ce6"
      },
      "execution_count": 8,
      "outputs": [
        {
          "output_type": "stream",
          "name": "stdout",
          "text": [
            "Name: Bob, Age: 30\n"
          ]
        }
      ]
    },
    {
      "cell_type": "code",
      "source": [
        "\"\"\"Variable-Length Arguments\n",
        "If you want to allow a function to accept an arbitrary number of arguments, use *args for positional arguments and **kwargs for keyword arguments:\n",
        "python\n",
        "Copy code\"\"\"\n",
        "def summarize(*args, **kwargs):\n",
        "    \"\"\"\n",
        "    This function prints positional and keyword arguments.\n",
        "    \"\"\"\n",
        "    print(\"Positional arguments:\", args)\n",
        "    print(\"Keyword arguments:\", kwargs)\n",
        "\n",
        "r=summarize(1, 2, 3, a=4, b=5)\n",
        "r\n",
        "\n"
      ],
      "metadata": {
        "colab": {
          "base_uri": "https://localhost:8080/"
        },
        "id": "7a0WvArYlpQy",
        "outputId": "b9949beb-cdf0-4771-fcc5-59a63e084b44"
      },
      "execution_count": 9,
      "outputs": [
        {
          "output_type": "stream",
          "name": "stdout",
          "text": [
            "Positional arguments: (1, 2, 3)\n",
            "Keyword arguments: {'a': 4, 'b': 5}\n"
          ]
        }
      ]
    },
    {
      "cell_type": "code",
      "source": [
        "\"\"\"Check for Palindrome\n",
        "Another common problem is to check if a string is a palindrome:\n",
        "python\n",
        "Copy code\"\"\"\n",
        "def is_palindrome(s):\n",
        "    \"\"\"\n",
        "    Checks if the input string is a palindrome.\n",
        "    \"\"\"\n",
        "    s = s.lower()  # Convert to lowercase to handle case insensitivity\n",
        "    return s == s[::-1]\n",
        "print(is_palindrome(\"Racecar\"))\n"
      ],
      "metadata": {
        "colab": {
          "base_uri": "https://localhost:8080/"
        },
        "id": "m7dnkJ3gnkSj",
        "outputId": "627190c1-2a6f-4417-ded9-f155a0f29a36"
      },
      "execution_count": 15,
      "outputs": [
        {
          "output_type": "stream",
          "name": "stdout",
          "text": [
            "True\n"
          ]
        }
      ]
    },
    {
      "cell_type": "code",
      "source": [
        "\"\"\"Reverse a String\n",
        "A common interview question is to reverse a string. Here's a simple function to do that:\n",
        "python\n",
        "Copy code \"\"\"\n",
        "def reverse_string(s):\n",
        "    \"\"\"\n",
        "    Reverses the input string.\n",
        "    \"\"\"\n",
        "    return s[::-1]\n",
        "r=reverse_string(\"Hello\")\n",
        "r"
      ],
      "metadata": {
        "colab": {
          "base_uri": "https://localhost:8080/",
          "height": 36
        },
        "id": "Nt-FHBvQnO6T",
        "outputId": "83b1a1a0-589f-45bb-bbad-c63942edc01a"
      },
      "execution_count": 12,
      "outputs": [
        {
          "output_type": "execute_result",
          "data": {
            "text/plain": [
              "'olleH'"
            ],
            "application/vnd.google.colaboratory.intrinsic+json": {
              "type": "string"
            }
          },
          "metadata": {},
          "execution_count": 12
        }
      ]
    },
    {
      "cell_type": "code",
      "source": [
        "def find_maximum(lst):\n",
        "    \"\"\"\n",
        "    Returns the maximum value from a list of numbers.\n",
        "    \"\"\"\n",
        "    max_value = lst[0]\n",
        "    for num in lst[1:]:\n",
        "        if num > max_value:\n",
        "            max_value = num\n",
        "    return max_value\n",
        "print(find_maximum([3, 1, 4, 1, 5, 9]))"
      ],
      "metadata": {
        "colab": {
          "base_uri": "https://localhost:8080/"
        },
        "id": "GE2EVmKhoOMU",
        "outputId": "d322663c-77a3-474e-9e5a-3a25bc5a680f"
      },
      "execution_count": 16,
      "outputs": [
        {
          "output_type": "stream",
          "name": "stdout",
          "text": [
            "9\n"
          ]
        }
      ]
    },
    {
      "cell_type": "code",
      "source": [
        "\"\"\"Sort a List Using Bubble Sort\n",
        "Sorting algorithms are frequently discussed:\n",
        "python\n",
        "Copy code\"\"\"\n",
        "def bubble_sort(lst):\n",
        "    \"\"\"\n",
        "    Sorts a list using the bubble sort algorithm.\n",
        "    \"\"\"\n",
        "    n = len(lst)\n",
        "    for i in range(n):\n",
        "        for j in range(0, n - i - 1):\n",
        "            if lst[j] > lst[j + 1]:\n",
        "                lst[j], lst[j + 1] = lst[j + 1], lst[j]\n",
        "    return lst\n",
        "print(bubble_sort([64, 34, 25, 12, 22, 11, 90]))"
      ],
      "metadata": {
        "colab": {
          "base_uri": "https://localhost:8080/"
        },
        "id": "c5YVDqs7pJYb",
        "outputId": "80d80cdc-c1fa-41f5-a540-a635a75ff6e6"
      },
      "execution_count": 17,
      "outputs": [
        {
          "output_type": "stream",
          "name": "stdout",
          "text": [
            "[11, 12, 22, 25, 34, 64, 90]\n"
          ]
        }
      ]
    },
    {
      "cell_type": "code",
      "source": [
        "def count_characters(s):\n",
        "     counts = {}\n",
        "     for char in s:\n",
        "            if char in counts:\n",
        "              counts[char] += 1\n",
        "            else:\n",
        "              counts[char] = 1\n",
        "     return counts\n",
        "print(count_characters(\"hello\"))\n"
      ],
      "metadata": {
        "colab": {
          "base_uri": "https://localhost:8080/"
        },
        "id": "8l9mivIupOkk",
        "outputId": "81f4b28d-6d3a-41f0-d5ba-89dd89965aec"
      },
      "execution_count": 20,
      "outputs": [
        {
          "output_type": "stream",
          "name": "stdout",
          "text": [
            "{'h': 1, 'e': 1, 'l': 2, 'o': 1}\n"
          ]
        }
      ]
    }
  ]
}